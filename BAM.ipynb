{
 "cells": [
  {
   "cell_type": "markdown",
   "metadata": {},
   "source": [
    "## ML - Assignment 9 - BAM (Bidirectional Associative Memory)\n",
    "### Done by: **Milan Ashvinbhai Bhuva (IIT2018176)**\n",
    "-----"
   ]
  },
  {
   "cell_type": "markdown",
   "metadata": {},
   "source": [
    "### **Problem Statement**\n",
    "\n",
    "Given\n",
    "\n",
    "- **Set A**:  \n",
    "    - X1 = [1 1 1 1 1 1 ]\n",
    "    - X2 = [-1 -1 -1 -1 -1 -1 ]\n",
    "    - X3 = [1 -1 -1 1 1 1 ]\n",
    "    - X4 = [1 1 -1 -1 -1 -1 ]\n",
    "<br><br>\n",
    "\n",
    "- **Set B**:  \n",
    "    - Y1 = [1 1 1]\n",
    "    - Y2 = [-1 -1 -1]\n",
    "    - Y3 = [-1 1 1]\n",
    "    - Y4 = [1 -1 1]\n",
    "\n",
    "\n",
    "- Using BAM algorithm, train a W matrix for BAM which can retrieve all the above mentioned 4 pairs. \n",
    "- Hence test the level of weight corrections of the BAM with examples.\n",
    "----"
   ]
  },
  {
   "cell_type": "markdown",
   "metadata": {},
   "source": [
    "### **Import modules**"
   ]
  },
  {
   "cell_type": "code",
   "execution_count": 1,
   "metadata": {},
   "outputs": [],
   "source": [
    "import numpy as np\n",
    "import random\n",
    "import math"
   ]
  },
  {
   "cell_type": "markdown",
   "metadata": {},
   "source": [
    "-----"
   ]
  },
  {
   "cell_type": "markdown",
   "metadata": {},
   "source": [
    "### **Representing given data**"
   ]
  },
  {
   "cell_type": "markdown",
   "metadata": {},
   "source": [
    "- Given the X components, I club them into a single vector ```using np.array()```.\n",
    "- The same thing is done for Y matrices.\n",
    "- This is done so that the calculation of the weight matrix is efficient and easy."
   ]
  },
  {
   "cell_type": "code",
   "execution_count": 2,
   "metadata": {},
   "outputs": [
    {
     "name": "stdout",
     "output_type": "stream",
     "text": [
      "X =  [[ 1  1  1  1  1  1]\n",
      " [-1 -1 -1 -1 -1 -1]\n",
      " [ 1 -1 -1  1  1  1]\n",
      " [ 1  1 -1 -1 -1 -1]]\n",
      "\n",
      "Y =  [[ 1  1  1]\n",
      " [-1 -1 -1]\n",
      " [-1  1  1]\n",
      " [ 1 -1  1]]\n",
      "\n",
      "\n",
      "Dimensions of X:  (4, 6)\n",
      "\n",
      "Dimensions of Y:  (4, 3)\n"
     ]
    }
   ],
   "source": [
    "X1 = [1, 1, 1, 1, 1, 1]\n",
    "X2 = [-1, -1, -1, -1, -1, -1]\n",
    "X3 = [1, -1, -1, 1, 1, 1]\n",
    "X4 = [1, 1, -1, -1, -1, -1]\n",
    "\n",
    "X = np.array([X1, X2, X3, X4])\n",
    "\n",
    "Y1 = [1, 1, 1]\n",
    "Y2 = [-1, -1, -1]\n",
    "Y3 = [-1, 1, 1]\n",
    "Y4 = [1, -1, 1]\n",
    "\n",
    "Y = np.array([Y1, Y2, Y3, Y4])\n",
    "\n",
    "print(\"X = \", X)\n",
    "print(\"\\nY = \", Y)\n",
    "print(\"\\n\\nDimensions of X: \", X.shape)\n",
    "print(\"\\nDimensions of Y: \", Y.shape)"
   ]
  },
  {
   "cell_type": "markdown",
   "metadata": {},
   "source": [
    "----"
   ]
  },
  {
   "cell_type": "markdown",
   "metadata": {},
   "source": [
    "### **BAM implementation diagram**"
   ]
  },
  {
   "cell_type": "markdown",
   "metadata": {},
   "source": [
    "![image](https://user-images.githubusercontent.com/55105941/97803508-fd352c00-1c6f-11eb-8538-b3ba2d9a1ddd.png)"
   ]
  },
  {
   "cell_type": "markdown",
   "metadata": {},
   "source": [
    "----"
   ]
  },
  {
   "cell_type": "markdown",
   "metadata": {},
   "source": [
    "### **Weight Matrix**"
   ]
  },
  {
   "cell_type": "markdown",
   "metadata": {},
   "source": [
    "- The weight matrix can be calculated using:\n",
    "    - **Vectorisation**: In this method, the weight matrix is obtained by calculating the dot product between X and Y vectors calculated above."
   ]
  },
  {
   "cell_type": "code",
   "execution_count": 3,
   "metadata": {},
   "outputs": [
    {
     "name": "stdout",
     "output_type": "stream",
     "text": [
      "W =  [[2 2 4]\n",
      " [4 0 2]\n",
      " [2 2 0]\n",
      " [0 4 2]\n",
      " [0 4 2]\n",
      " [0 4 2]]\n",
      "\n",
      "Dimensions of Weight Matrix:  (6, 3)\n"
     ]
    }
   ],
   "source": [
    "def calcWeight(X, Y):\n",
    "    return np.dot(X.T, Y)\n",
    "\n",
    "weight = calcWeight(X, Y)\n",
    "print('W = ', weight, end = \"\")\n",
    "\n",
    "print(\"\\n\\nDimensions of Weight Matrix: \",weight.shape)"
   ]
  },
  {
   "cell_type": "markdown",
   "metadata": {},
   "source": [
    "----"
   ]
  },
  {
   "cell_type": "markdown",
   "metadata": {},
   "source": [
    "### **Testing**"
   ]
  },
  {
   "cell_type": "markdown",
   "metadata": {},
   "source": [
    "- In testing, the goal is to verify if our weight matrix is correct.\n",
    "- In **forward testing**, the Y matrices will be multiplied with the weights to **obtain corresponding X matrices**.\n",
    "- In **backward testing**, the X matrices will be multiplied with the weights to **obtain corresponding Y matrices**.\n",
    "- I will be using the bipolar activation function, which will categorize the **values <= 0 as -1 and values > 0 as 1**.\n",
    "- Below is a representation of the bipolar activation function."
   ]
  },
  {
   "cell_type": "markdown",
   "metadata": {},
   "source": [
    "![bipolar](https://user-images.githubusercontent.com/55105941/97907639-939a4800-1d6b-11eb-8870-2b04e2c3d6ab.png)"
   ]
  },
  {
   "cell_type": "markdown",
   "metadata": {},
   "source": [
    "#### **Why is bipolar activation function used?**\n",
    "\n",
    "- This is because, considering the given sets A and B, the **value domain consists of 1 and -1**.\n",
    "- Hence, this is the only activation function where f(x) = {-1, 1} for any x."
   ]
  },
  {
   "cell_type": "code",
   "execution_count": 4,
   "metadata": {},
   "outputs": [],
   "source": [
    "def ForwardBipolarActivation(matrix, weight):\n",
    "    matrix[matrix > 0] = 1\n",
    "    matrix[matrix <= 0] = -1\n",
    "    return np.array(matrix)\n",
    "\n",
    "def BackwardBipolarActivation(matrix, weight):\n",
    "    matrix[matrix >= 0] = 1\n",
    "    matrix[matrix < 0] = -1\n",
    "    return np.array(matrix)"
   ]
  },
  {
   "cell_type": "markdown",
   "metadata": {},
   "source": [
    "----\n",
    "### **Forward Testing**\n",
    "\n",
    "- We perform the following operation on all the Y (set B) matrices and verify if our result matches with the corresponding set A (X) matrices. \n",
    "\n",
    "    $\n",
    "        Y(i) * weight^T = X_i\n",
    "    $\n",
    "----"
   ]
  },
  {
   "cell_type": "code",
   "execution_count": 5,
   "metadata": {},
   "outputs": [],
   "source": [
    "def forward(Y, weight): \n",
    "  x = np.dot(Y, weight.T) \n",
    "  return ForwardBipolarActivation(x, weight)"
   ]
  },
  {
   "cell_type": "code",
   "execution_count": 6,
   "metadata": {},
   "outputs": [
    {
     "name": "stdout",
     "output_type": "stream",
     "text": [
      "\n",
      "weight * Y1 =  [1 1 1 1 1 1]  = X1\n",
      "\n",
      "weight * Y2 =  [-1 -1 -1 -1 -1 -1]  = X2\n",
      "\n",
      "weight * Y3 =  [ 1 -1 -1  1  1  1]  = X3\n",
      "\n",
      "weight * Y4 =  [ 1  1 -1 -1 -1 -1]  = X4\n",
      "\n",
      "\n",
      "It is observed that the obtained results match with the original X matrices.\n",
      "\n",
      "Thus forward testing is 100% accurate.\n"
     ]
    }
   ],
   "source": [
    "print(\"\\nweight * Y1 = \", forward(Y1, weight), \" = X1\")\n",
    "print(\"\\nweight * Y2 = \", forward(Y2, weight), \" = X2\")\n",
    "print(\"\\nweight * Y3 = \", forward(Y3, weight), \" = X3\")\n",
    "print(\"\\nweight * Y4 = \", forward(Y4, weight), \" = X4\")\n",
    "\n",
    "print(\"\\n\\nIt is observed that the obtained results match with the original X matrices.\\n\\nThus forward testing is 100% accurate.\")"
   ]
  },
  {
   "cell_type": "markdown",
   "metadata": {},
   "source": [
    "----\n",
    "### **Backward Testing**\n",
    "- We perform the following operation on all the X (set A) matrices and verify if our result matches with the corresponding set B (Y) matrices. \n",
    "\n",
    "    $\n",
    "        weight^T * X_i = Y_i\n",
    "    $\n",
    "----"
   ]
  },
  {
   "cell_type": "code",
   "execution_count": 7,
   "metadata": {},
   "outputs": [],
   "source": [
    "def backward(X, weight): \n",
    "  Y = np.dot(weight.T, X) \n",
    "  return BackwardBipolarActivation(Y, weight)"
   ]
  },
  {
   "cell_type": "code",
   "execution_count": 8,
   "metadata": {},
   "outputs": [
    {
     "name": "stdout",
     "output_type": "stream",
     "text": [
      "\n",
      "weight * X1 =  [1 1 1]  = Y1\n",
      "\n",
      "weight * X2 =  [-1 -1 -1]  = Y2\n",
      "\n",
      "weight * X3 =  [-1  1  1]  = Y3\n",
      "\n",
      "weight * X4 =  [ 1 -1  1]  = Y4\n",
      "\n",
      "\n",
      "It is observed that the obtained results match with the original Y (target) matrices.\n",
      "\n",
      "Thus backward testing is 100% accurate.\n"
     ]
    }
   ],
   "source": [
    "print(\"\\nweight * X1 = \", backward(X1, weight), \" = Y1\")\n",
    "print(\"\\nweight * X2 = \", backward(X2, weight), \" = Y2\")\n",
    "print(\"\\nweight * X3 = \", backward(X3, weight), \" = Y3\")\n",
    "print(\"\\nweight * X4 = \", backward(X4, weight), \" = Y4\")\n",
    "\n",
    "print(\"\\n\\nIt is observed that the obtained results match with the original Y (target) matrices.\\n\\nThus backward testing is 100% accurate.\")"
   ]
  },
  {
   "cell_type": "markdown",
   "metadata": {},
   "source": [
    "-----"
   ]
  }
 ],
 "metadata": {
  "kernelspec": {
   "display_name": "Python 3",
   "language": "python",
   "name": "python3"
  },
  "language_info": {
   "codemirror_mode": {
    "name": "ipython",
    "version": 3
   },
   "file_extension": ".py",
   "mimetype": "text/x-python",
   "name": "python",
   "nbconvert_exporter": "python",
   "pygments_lexer": "ipython3",
   "version": "3.8.5"
  }
 },
 "nbformat": 4,
 "nbformat_minor": 4
}
